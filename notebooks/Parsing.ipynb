{
 "cells": [
  {
   "cell_type": "code",
   "execution_count": 195,
   "metadata": {},
   "outputs": [],
   "source": [
    "import re\n",
    "import tika\n",
    "from tika import parser"
   ]
  },
  {
   "cell_type": "code",
   "execution_count": 223,
   "metadata": {},
   "outputs": [],
   "source": [
    "tika.initVM()"
   ]
  },
  {
   "cell_type": "code",
   "execution_count": 224,
   "metadata": {},
   "outputs": [],
   "source": [
    "filename = '../data/<filename>.pdf'"
   ]
  },
  {
   "cell_type": "code",
   "execution_count": 225,
   "metadata": {},
   "outputs": [],
   "source": [
    "parsed = parser.from_file(filename, xmlContent=True)"
   ]
  },
  {
   "cell_type": "code",
   "execution_count": null,
   "metadata": {
    "scrolled": true
   },
   "outputs": [],
   "source": [
    "print(parsed['content'])"
   ]
  },
  {
   "cell_type": "code",
   "execution_count": 226,
   "metadata": {},
   "outputs": [],
   "source": [
    "with open('output.html', 'w') as f:\n",
    "    f.write(parsed['content'])"
   ]
  },
  {
   "cell_type": "code",
   "execution_count": 6,
   "metadata": {},
   "outputs": [
    {
     "data": {
      "text/plain": [
       "['__class__',\n",
       " '__contains__',\n",
       " '__delattr__',\n",
       " '__delitem__',\n",
       " '__dir__',\n",
       " '__doc__',\n",
       " '__eq__',\n",
       " '__format__',\n",
       " '__ge__',\n",
       " '__getattribute__',\n",
       " '__getitem__',\n",
       " '__gt__',\n",
       " '__hash__',\n",
       " '__init__',\n",
       " '__init_subclass__',\n",
       " '__iter__',\n",
       " '__le__',\n",
       " '__len__',\n",
       " '__lt__',\n",
       " '__ne__',\n",
       " '__new__',\n",
       " '__reduce__',\n",
       " '__reduce_ex__',\n",
       " '__repr__',\n",
       " '__setattr__',\n",
       " '__setitem__',\n",
       " '__sizeof__',\n",
       " '__str__',\n",
       " '__subclasshook__',\n",
       " 'clear',\n",
       " 'copy',\n",
       " 'fromkeys',\n",
       " 'get',\n",
       " 'items',\n",
       " 'keys',\n",
       " 'pop',\n",
       " 'popitem',\n",
       " 'setdefault',\n",
       " 'update',\n",
       " 'values']"
      ]
     },
     "execution_count": 6,
     "metadata": {},
     "output_type": "execute_result"
    }
   ],
   "source": [
    "dir(parsed)"
   ]
  },
  {
   "cell_type": "code",
   "execution_count": 10,
   "metadata": {},
   "outputs": [],
   "source": [
    "import sqlite3"
   ]
  },
  {
   "cell_type": "code",
   "execution_count": 11,
   "metadata": {},
   "outputs": [],
   "source": [
    "conn = sqlite3.connect('~/src/DeepLearning/DrQA/legal.db')"
   ]
  },
  {
   "cell_type": "code",
   "execution_count": 14,
   "metadata": {},
   "outputs": [
    {
     "data": {
      "text/plain": [
       "<sqlite3.Cursor at 0x1108936c0>"
      ]
     },
     "execution_count": 14,
     "metadata": {},
     "output_type": "execute_result"
    }
   ],
   "source": [
    "c = conn.cursor()\n",
    "c.execute('select text from documents where id=?', ('2edb99cf-ec9d-42a9-99e8-5b1d7e4762fd',))"
   ]
  },
  {
   "cell_type": "code",
   "execution_count": null,
   "metadata": {},
   "outputs": [],
   "source": [
    "print(c.fetchone())"
   ]
  },
  {
   "cell_type": "code",
   "execution_count": 16,
   "metadata": {},
   "outputs": [],
   "source": [
    "conn.close()"
   ]
  },
  {
   "cell_type": "code",
   "execution_count": 7,
   "metadata": {},
   "outputs": [],
   "source": [
    "import spacy"
   ]
  },
  {
   "cell_type": "code",
   "execution_count": 21,
   "metadata": {},
   "outputs": [],
   "source": [
    "text = '''In exercising the Company Delegations, you must comply with the rules set out below.   \n",
    " \n",
    "Rule 1:  Your Area of Responsibility and Budget'''"
   ]
  },
  {
   "cell_type": "code",
   "execution_count": 9,
   "metadata": {},
   "outputs": [],
   "source": [
    "nlp = spacy.load('en_core_web_sm')"
   ]
  },
  {
   "cell_type": "code",
   "execution_count": 10,
   "metadata": {},
   "outputs": [],
   "source": [
    "doc = nlp(text)"
   ]
  },
  {
   "cell_type": "code",
   "execution_count": 13,
   "metadata": {},
   "outputs": [
    {
     "name": "stdout",
     "output_type": "stream",
     "text": [
      ">>\n",
      "In exercising the Company Delegations, you must comply with the rules set out below.   \n",
      " \n",
      "\n",
      "<<\n",
      ">>\n",
      "Rule 1:  \n",
      "<<\n",
      ">>\n",
      "Your Area of Responsibility and Budget\n",
      "<<\n"
     ]
    }
   ],
   "source": [
    "for sent in doc.sents:\n",
    "    print('>>')\n",
    "    print(sent)\n",
    "    print('<<')"
   ]
  },
  {
   "cell_type": "code",
   "execution_count": 14,
   "metadata": {},
   "outputs": [],
   "source": [
    "SENTENCE_BOUNDARY_MARKERS = ['.', '?', '!']\n",
    "\n",
    "def set_custom_boundaries(doc):\n",
    "    for token in doc[:-1]:\n",
    "        if token.text in SENTENCE_BOUNDARY_MARKERS:\n",
    "            doc[token.i + 1].is_sent_start = True\n",
    "\n",
    "    return doc\n"
   ]
  },
  {
   "cell_type": "code",
   "execution_count": 15,
   "metadata": {},
   "outputs": [],
   "source": [
    "nlp.add_pipe(set_custom_boundaries, before='parser')"
   ]
  },
  {
   "cell_type": "code",
   "execution_count": 22,
   "metadata": {},
   "outputs": [],
   "source": [
    "doc = nlp(text)"
   ]
  },
  {
   "cell_type": "code",
   "execution_count": 23,
   "metadata": {},
   "outputs": [
    {
     "name": "stdout",
     "output_type": "stream",
     "text": [
      ">>\n",
      "In exercising the Company Delegations, you must comply with the rules set out below.\n",
      "<<\n",
      ">>\n",
      "  \n",
      " \n",
      "\n",
      "<<\n",
      ">>\n",
      "Rule 1:  \n",
      "<<\n",
      ">>\n",
      "Your Area of Responsibility and Budget\n",
      "<<\n"
     ]
    }
   ],
   "source": [
    "for sent in doc.sents:\n",
    "    print('>>')\n",
    "    print(sent)\n",
    "    print('<<')"
   ]
  },
  {
   "cell_type": "code",
   "execution_count": 6,
   "metadata": {},
   "outputs": [],
   "source": [
    "from spacy.lang.en import English\n",
    "from spacy.pipeline import SentenceSegmenter"
   ]
  },
  {
   "cell_type": "code",
   "execution_count": 8,
   "metadata": {},
   "outputs": [],
   "source": [
    "nlp = English()  # just the language with no model"
   ]
  },
  {
   "cell_type": "code",
   "execution_count": 25,
   "metadata": {},
   "outputs": [],
   "source": [
    "sbd = nlp.create_pipe('sentencizer')"
   ]
  },
  {
   "cell_type": "code",
   "execution_count": 26,
   "metadata": {},
   "outputs": [],
   "source": [
    "nlp.add_pipe(sbd)"
   ]
  },
  {
   "cell_type": "code",
   "execution_count": 27,
   "metadata": {},
   "outputs": [],
   "source": [
    "doc = nlp(text)"
   ]
  },
  {
   "cell_type": "code",
   "execution_count": 28,
   "metadata": {},
   "outputs": [
    {
     "name": "stdout",
     "output_type": "stream",
     "text": [
      ">>\n",
      "In exercising the Company Delegations, you must comply with the rules set out below.\n",
      "<<\n",
      ">>\n",
      "  \n",
      " \n",
      "Rule 1:  Your Area of Responsibility and Budget\n",
      "<<\n"
     ]
    }
   ],
   "source": [
    "for sent in doc.sents:\n",
    "    print('>>')\n",
    "    print(sent)\n",
    "    print('<<')"
   ]
  },
  {
   "cell_type": "code",
   "execution_count": 29,
   "metadata": {},
   "outputs": [],
   "source": [
    "text = '''Rule 1:  Your Area of Responsibility and Budget'''"
   ]
  },
  {
   "cell_type": "code",
   "execution_count": 30,
   "metadata": {},
   "outputs": [],
   "source": [
    "doc = nlp(text)"
   ]
  },
  {
   "cell_type": "code",
   "execution_count": 88,
   "metadata": {},
   "outputs": [],
   "source": [
    "def print_sentences(doc):\n",
    "    for sent in doc.sents:\n",
    "        print('>>{}<<'.format(sent))\n"
   ]
  },
  {
   "cell_type": "code",
   "execution_count": 32,
   "metadata": {},
   "outputs": [],
   "source": [
    "text = '''TABLE OF CONTENTS \n",
    "1. PURPOSE OF THESE COMPANY DELEGATIONS 4 \n",
    "2. COMPANY DELEGATIONS FRAMEWORK 4 \n",
    "3. COMPANY DELEGATION RULES 6 \n",
    "4. COMPANY POWERS OF ATTORNEY 7 \n",
    "5. AUTHORITY TO ACT 8 \n",
    "6. SUB-DELEGATION OF SIGNING POWER 8 \n",
    "7. GUIDELINES TO THE COMPANY DELEGATIONS 9 \n",
    "8. NOTIFICATIONS TO THE BOARD 11 \n",
    "9. NOTIFICATIONS TO THE CEO 11 \n",
    "10. VARIATION AND REVOCATION 11 \n",
    "11. EFFECTIVE DATE 11 \n",
    "'''"
   ]
  },
  {
   "cell_type": "code",
   "execution_count": 65,
   "metadata": {},
   "outputs": [],
   "source": [
    "LIST_NUM_SHAPES = ['d', 'd.d', 'd.dd', 'dd.d', 'dd.dd', 'd.d.d', 'd.d.dd', 'd.dd.d', 'd.dd.dd']"
   ]
  },
  {
   "cell_type": "code",
   "execution_count": 66,
   "metadata": {},
   "outputs": [],
   "source": [
    "BULLET_MARKERS = [u'•', '*', 'o']"
   ]
  },
  {
   "cell_type": "code",
   "execution_count": 67,
   "metadata": {},
   "outputs": [],
   "source": [
    "def is_bullet(token):\n",
    "    return token.text in BULLET_MARKERS\n"
   ]
  },
  {
   "cell_type": "code",
   "execution_count": 68,
   "metadata": {},
   "outputs": [],
   "source": [
    "def is_list_num(token):\n",
    "    return token.shape_ in LIST_NUM_SHAPES\n"
   ]
  },
  {
   "cell_type": "code",
   "execution_count": 196,
   "metadata": {},
   "outputs": [],
   "source": [
    "def is_roman_numeral(token):\n",
    "    \"\"\"\n",
    "    Validate if a Spacy Token is a roman numeral\n",
    "\n",
    "    See https://stackoverflow.com/questions/267399/how-do-you-match-only-valid-roman-numerals-with-a-regular-expression\n",
    "\n",
    "    :param token: Spacy Token\n",
    "    :return: (bool)\n",
    "    \"\"\"\n",
    "    if token.text in ['', '.', ')']:\n",
    "        return False\n",
    "\n",
    "    match = re.match(r'^(XC|XL|L?X{0,3})(IX|IV|V?I{0,3})[.)]?$', token.text, re.IGNORECASE)\n",
    "    return True if match else False\n"
   ]
  },
  {
   "cell_type": "code",
   "execution_count": 197,
   "metadata": {},
   "outputs": [],
   "source": [
    "def is_ordered_list_item(token, next_token):\n",
    "    if next_token and next_token.text in ['.', ')']:\n",
    "        if is_list_num(token):\n",
    "            return True\n",
    "\n",
    "        if token.is_alpha and len(token) == 1:\n",
    "            return True\n",
    "\n",
    "        if is_roman_numeral(token):\n",
    "            return True\n",
    "\n",
    "    if is_list_num(token):\n",
    "        return True\n",
    "\n",
    "    if is_roman_numeral(token):\n",
    "        return True\n",
    "\n",
    "    return False\n"
   ]
  },
  {
   "cell_type": "code",
   "execution_count": 218,
   "metadata": {},
   "outputs": [],
   "source": [
    "def detect_heading(text_or_tokens, nlp=None):\n",
    "    if nlp is None:\n",
    "        doc = text_or_tokens\n",
    "    else:\n",
    "        doc = nlp(text_or_tokens)\n",
    "\n",
    "    n = len(doc)\n",
    "    for i, token in enumerate(doc):\n",
    "        if '\\n' in token.text:\n",
    "            continue\n",
    "\n",
    "        next_token = doc[i + 1] if (i + 2) < n else None\n",
    "        if i == 0:\n",
    "            if not (token.is_title or token.is_upper or is_ordered_list_item(token, next_token)):\n",
    "                return False\n",
    "        elif i == (n - 1):\n",
    "            if not (token.is_title or token.is_upper or token.is_digit or token.text in ['.', ':', ')']):\n",
    "                return False\n",
    "        else:\n",
    "            if not (token.is_title or token.is_upper or token.is_stop or token.is_punct or\n",
    "                    token.is_digit or token.text in [',', '-']):\n",
    "                return False\n",
    "\n",
    "    return True\n"
   ]
  },
  {
   "cell_type": "code",
   "execution_count": 205,
   "metadata": {},
   "outputs": [],
   "source": [
    "def split_sentences(doc):\n",
    "    \"\"\" Custom sentence segmentation \"\"\"\n",
    "    start = 0\n",
    "    line_start = 0\n",
    "    n = len(doc)\n",
    "    in_list_num = False\n",
    "    newline = False\n",
    "    line = []\n",
    "    for j, word in enumerate(doc):\n",
    "        i = word.i\n",
    "        next_token = doc[j + 1] if (j + 2) < n else None\n",
    "        if newline:\n",
    "            newline = False\n",
    "            if is_bullet(word):\n",
    "                yield doc[start:i]\n",
    "                start = i\n",
    "            elif is_ordered_list_item(word, next_token):\n",
    "                in_list_num = True\n",
    "                yield doc[start:i]\n",
    "                start = i\n",
    "            elif line_start == 0 and detect_heading(line):\n",
    "                if line_start > start:\n",
    "                    yield doc[start:line_start]\n",
    "\n",
    "                yield doc[line_start:i]\n",
    "                start = i\n",
    "\n",
    "            line = []\n",
    "            line_start = i\n",
    "        elif '\\n' in word.text:\n",
    "            newline = True\n",
    "        elif is_bullet(word) and i != 0:\n",
    "            yield doc[start:i]\n",
    "            start = i\n",
    "        elif word.text in ['?', '!']:\n",
    "            yield doc[start:i + 1]\n",
    "            start = i + 1\n",
    "        elif word.text == '.':\n",
    "            if ((i + 1) == n or doc[i + 1].is_title or doc[i + 1].text == '\\n') and not in_list_num:\n",
    "                yield doc[start:i + 1]\n",
    "                start = i + 1\n",
    "        elif is_ordered_list_item(word, next_token):\n",
    "            in_list_num = True\n",
    "        else:\n",
    "            in_list_num = False\n",
    "\n",
    "        line.append(word)\n",
    "\n",
    "    if start < n:\n",
    "        if line_start == 0 and detect_heading(line):\n",
    "            if line_start > start:\n",
    "                yield doc[start:line_start]\n",
    "\n",
    "            yield doc[line_start:n]\n",
    "        else:\n",
    "            yield doc[start:n]\n"
   ]
  },
  {
   "cell_type": "code",
   "execution_count": 206,
   "metadata": {},
   "outputs": [],
   "source": [
    "sbd = SentenceSegmenter(nlp.vocab, strategy=split_sentences)"
   ]
  },
  {
   "cell_type": "code",
   "execution_count": 207,
   "metadata": {},
   "outputs": [],
   "source": [
    "nlp = English()  # just the language with no model\n",
    "nlp.add_pipe(sbd)"
   ]
  },
  {
   "cell_type": "code",
   "execution_count": 219,
   "metadata": {},
   "outputs": [],
   "source": [
    "text = '''Issue 16 14 December 2018'''"
   ]
  },
  {
   "cell_type": "code",
   "execution_count": 220,
   "metadata": {},
   "outputs": [],
   "source": [
    "doc = nlp(text)"
   ]
  },
  {
   "cell_type": "code",
   "execution_count": 221,
   "metadata": {},
   "outputs": [
    {
     "data": {
      "text/plain": [
       "False"
      ]
     },
     "execution_count": 221,
     "metadata": {},
     "output_type": "execute_result"
    }
   ],
   "source": [
    "is_list_num(doc[4])"
   ]
  },
  {
   "cell_type": "code",
   "execution_count": 222,
   "metadata": {},
   "outputs": [
    {
     "data": {
      "text/plain": [
       "True"
      ]
     },
     "execution_count": 222,
     "metadata": {},
     "output_type": "execute_result"
    }
   ],
   "source": [
    "detect_heading(doc)"
   ]
  },
  {
   "cell_type": "code",
   "execution_count": null,
   "metadata": {},
   "outputs": [],
   "source": [
    "print_sentences(doc)"
   ]
  },
  {
   "cell_type": "code",
   "execution_count": 19,
   "metadata": {},
   "outputs": [],
   "source": [
    "import sys\n",
    "sys.path.append('../onesource')"
   ]
  },
  {
   "cell_type": "code",
   "execution_count": 27,
   "metadata": {},
   "outputs": [],
   "source": [
    "import importlib"
   ]
  },
  {
   "cell_type": "code",
   "execution_count": 28,
   "metadata": {},
   "outputs": [],
   "source": [
    "import tika_extract"
   ]
  },
  {
   "cell_type": "code",
   "execution_count": 29,
   "metadata": {},
   "outputs": [],
   "source": [
    "extractor = tika_extract.TextExtractor()"
   ]
  },
  {
   "cell_type": "code",
   "execution_count": 30,
   "metadata": {},
   "outputs": [],
   "source": [
    "structured_content, text_list = [], []"
   ]
  },
  {
   "cell_type": "code",
   "execution_count": 31,
   "metadata": {},
   "outputs": [],
   "source": [
    "extractor._process_text(text, structured_content, text_list, nlp)"
   ]
  },
  {
   "cell_type": "code",
   "execution_count": 32,
   "metadata": {},
   "outputs": [
    {
     "data": {
      "text/plain": [
       "[{'type': 'heading', 'text': 'TELSTRA RESTRICTED (December'}]"
      ]
     },
     "execution_count": 32,
     "metadata": {},
     "output_type": "execute_result"
    }
   ],
   "source": [
    "structured_content"
   ]
  },
  {
   "cell_type": "code",
   "execution_count": null,
   "metadata": {},
   "outputs": [],
   "source": [
    "[(i, token) for i, token in enumerate(doc)]"
   ]
  },
  {
   "cell_type": "code",
   "execution_count": 276,
   "metadata": {},
   "outputs": [
    {
     "data": {
      "text/plain": [
       "True"
      ]
     },
     "execution_count": 276,
     "metadata": {},
     "output_type": "execute_result"
    }
   ],
   "source": [
    "detect_heading(doc[0:16])"
   ]
  },
  {
   "cell_type": "code",
   "execution_count": 277,
   "metadata": {},
   "outputs": [],
   "source": [
    "text = ''' \n",
    "'''"
   ]
  },
  {
   "cell_type": "code",
   "execution_count": 278,
   "metadata": {},
   "outputs": [],
   "source": [
    "doc = nlp(text)"
   ]
  },
  {
   "cell_type": "code",
   "execution_count": null,
   "metadata": {},
   "outputs": [],
   "source": [
    "[(i, token) for i, token in enumerate(doc)]"
   ]
  },
  {
   "cell_type": "code",
   "execution_count": 123,
   "metadata": {},
   "outputs": [],
   "source": [
    "import re"
   ]
  },
  {
   "cell_type": "code",
   "execution_count": 124,
   "metadata": {},
   "outputs": [],
   "source": [
    "def is_roman_numeral(token):\n",
    "    \"\"\"\n",
    "    Validate if a Spacy Token is a roman numeral\n",
    "\n",
    "    See https://stackoverflow.com/questions/267399/how-do-you-match-only-valid-roman-numerals-with-a-regular-expression\n",
    "\n",
    "    :param token: Spacy Token\n",
    "    :return: (bool)\n",
    "    \"\"\"\n",
    "    if token.text in ['', '.', ')']:\n",
    "        return False\n",
    "\n",
    "    match = re.match(r'^(XC|XL|L?X{0,3})(IX|IV|V?I{0,3})[.)]?$', token.text, re.IGNORECASE)\n",
    "    return True if match else False\n"
   ]
  },
  {
   "cell_type": "code",
   "execution_count": 131,
   "metadata": {},
   "outputs": [],
   "source": [
    "def is_ordered_list_item(token, next_token):\n",
    "    if next_token and next_token.text in ['.', ')']:\n",
    "        if token.is_digit:\n",
    "            return True\n",
    "\n",
    "        if token.is_alpha and len(token) == 1:\n",
    "            return True\n",
    "\n",
    "        if is_roman_numeral(token):\n",
    "            return True\n",
    "\n",
    "    if token.shape_ in ['d.', 'dd.']:\n",
    "        return True\n",
    "\n",
    "    if is_roman_numeral(token):\n",
    "        return True\n",
    "\n",
    "    return False\n"
   ]
  },
  {
   "cell_type": "code",
   "execution_count": 125,
   "metadata": {},
   "outputs": [
    {
     "data": {
      "text/plain": [
       ")"
      ]
     },
     "execution_count": 125,
     "metadata": {},
     "output_type": "execute_result"
    }
   ],
   "source": [
    "doc[15]"
   ]
  },
  {
   "cell_type": "code",
   "execution_count": 126,
   "metadata": {},
   "outputs": [
    {
     "data": {
      "text/plain": [
       "False"
      ]
     },
     "execution_count": 126,
     "metadata": {},
     "output_type": "execute_result"
    }
   ],
   "source": [
    "is_roman_numeral(doc[15])"
   ]
  },
  {
   "cell_type": "code",
   "execution_count": 130,
   "metadata": {},
   "outputs": [
    {
     "data": {
      "text/plain": [
       "False"
      ]
     },
     "execution_count": 130,
     "metadata": {},
     "output_type": "execute_result"
    }
   ],
   "source": [
    "' ' in ['', '.', ')']"
   ]
  },
  {
   "cell_type": "code",
   "execution_count": 134,
   "metadata": {},
   "outputs": [
    {
     "data": {
      "text/plain": [
       "False"
      ]
     },
     "execution_count": 134,
     "metadata": {},
     "output_type": "execute_result"
    }
   ],
   "source": [
    "is_ordered_list_item(doc[14], doc[15])"
   ]
  },
  {
   "cell_type": "code",
   "execution_count": 135,
   "metadata": {},
   "outputs": [
    {
     "data": {
      "text/plain": [
       "[(0, 1), (1, 2), (2, 3)]"
      ]
     },
     "execution_count": 135,
     "metadata": {},
     "output_type": "execute_result"
    }
   ],
   "source": [
    "text = '1 2 3'\n",
    "doc = nlp(text)\n",
    "[(i, token) for i, token in enumerate(doc)]"
   ]
  },
  {
   "cell_type": "code",
   "execution_count": 136,
   "metadata": {},
   "outputs": [
    {
     "data": {
      "text/plain": [
       "False"
      ]
     },
     "execution_count": 136,
     "metadata": {},
     "output_type": "execute_result"
    }
   ],
   "source": [
    "doc[0].is_title"
   ]
  },
  {
   "cell_type": "code",
   "execution_count": 146,
   "metadata": {},
   "outputs": [],
   "source": [
    "text = '''\n",
    "'''"
   ]
  },
  {
   "cell_type": "code",
   "execution_count": 147,
   "metadata": {},
   "outputs": [],
   "source": [
    "doc = nlp(text)"
   ]
  },
  {
   "cell_type": "code",
   "execution_count": null,
   "metadata": {},
   "outputs": [],
   "source": [
    "print_sentences(doc)"
   ]
  },
  {
   "cell_type": "code",
   "execution_count": null,
   "metadata": {},
   "outputs": [],
   "source": []
  }
 ],
 "metadata": {
  "kernelspec": {
   "display_name": "Python 3",
   "language": "python",
   "name": "python3"
  },
  "language_info": {
   "codemirror_mode": {
    "name": "ipython",
    "version": 3
   },
   "file_extension": ".py",
   "mimetype": "text/x-python",
   "name": "python",
   "nbconvert_exporter": "python",
   "pygments_lexer": "ipython3",
   "version": "3.6.8"
  }
 },
 "nbformat": 4,
 "nbformat_minor": 2
}
